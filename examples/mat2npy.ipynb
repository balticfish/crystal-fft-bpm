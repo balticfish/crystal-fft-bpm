{
 "cells": [
  {
   "cell_type": "code",
   "execution_count": 2,
   "id": "b1793c0a-c4eb-46bf-b631-a99972615ace",
   "metadata": {},
   "outputs": [],
   "source": [
    "from scipy.io import loadmat\n",
    "import numpy as np"
   ]
  },
  {
   "cell_type": "code",
   "execution_count": 3,
   "id": "3ec33211-1db4-47c3-aeb4-4ab808066c38",
   "metadata": {},
   "outputs": [],
   "source": [
    "annots = loadmat('Test1ns3D0p5x0p5_4267x1x1842.mat')"
   ]
  },
  {
   "cell_type": "code",
   "execution_count": 4,
   "id": "9dee3e29-1162-42a5-9956-4caf565e6303",
   "metadata": {},
   "outputs": [
    {
     "data": {
      "text/plain": [
       "{'__header__': b'MATLAB 5.0 MAT-file, Platform: PCWIN64, Created on: Thu Feb 16 09:28:31 2023',\n",
       " '__version__': '1.0',\n",
       " '__globals__': [],\n",
       " 'ueeJc': array([[[0., 0., 0., ..., 0., 0., 0.]],\n",
       " \n",
       "        [[0., 0., 0., ..., 0., 0., 0.]],\n",
       " \n",
       "        [[0., 0., 0., ..., 0., 0., 0.]],\n",
       " \n",
       "        ...,\n",
       " \n",
       "        [[0., 0., 0., ..., 0., 0., 0.]],\n",
       " \n",
       "        [[0., 0., 0., ..., 0., 0., 0.]],\n",
       " \n",
       "        [[0., 0., 0., ..., 0., 0., 0.]]])}"
      ]
     },
     "execution_count": 4,
     "metadata": {},
     "output_type": "execute_result"
    }
   ],
   "source": [
    "annots"
   ]
  },
  {
   "cell_type": "code",
   "execution_count": 7,
   "id": "15931d60-bfab-452a-b6e3-b67c9ae313a1",
   "metadata": {},
   "outputs": [
    {
     "data": {
      "text/plain": [
       "(numpy.ndarray, (4267, 1, 1842))"
      ]
     },
     "execution_count": 7,
     "metadata": {},
     "output_type": "execute_result"
    }
   ],
   "source": [
    "type(annots['ueeJc']),annots['ueeJc'].shape"
   ]
  },
  {
   "cell_type": "code",
   "execution_count": 8,
   "id": "f9a4065b-17bf-404e-be64-80b94663e906",
   "metadata": {},
   "outputs": [],
   "source": [
    "w1=annots['ueeJc']"
   ]
  },
  {
   "cell_type": "code",
   "execution_count": 9,
   "id": "3de7ca12-e3be-4690-b11f-b0908293dd6e",
   "metadata": {},
   "outputs": [
    {
     "data": {
      "text/plain": [
       "(4267, 1, 1842)"
      ]
     },
     "execution_count": 9,
     "metadata": {},
     "output_type": "execute_result"
    }
   ],
   "source": [
    "w1.shape"
   ]
  },
  {
   "cell_type": "code",
   "execution_count": 10,
   "id": "bd0a913f-03a1-4487-b8f6-9c01c785a393",
   "metadata": {},
   "outputs": [],
   "source": [
    "np.save('uz1ns3D0p5x0p5_4267x1x1842',w1)"
   ]
  }
 ],
 "metadata": {
  "kernelspec": {
   "display_name": "NERSC Python",
   "language": "python",
   "name": "python3"
  },
  "language_info": {
   "codemirror_mode": {
    "name": "ipython",
    "version": 3
   },
   "file_extension": ".py",
   "mimetype": "text/x-python",
   "name": "python",
   "nbconvert_exporter": "python",
   "pygments_lexer": "ipython3",
   "version": "3.9.7"
  }
 },
 "nbformat": 4,
 "nbformat_minor": 5
}

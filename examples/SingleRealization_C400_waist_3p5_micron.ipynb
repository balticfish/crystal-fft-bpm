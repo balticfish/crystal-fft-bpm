{
 "cells": [
  {
   "cell_type": "code",
   "execution_count": 1,
   "id": "ed5e5b3d-7129-413b-a1f8-68d20ea9f630",
   "metadata": {},
   "outputs": [],
   "source": [
    "import sys\n",
    "import os\n",
    "import numpy as np\n",
    "import matplotlib.pyplot as plt\n",
    "import matplotlib\n",
    "import time\n",
    "XCr_path = os.getcwd()+'/../'\n",
    "sys.path.append(XCr_path)\n",
    "from XCrystal import *"
   ]
  },
  {
   "cell_type": "code",
   "execution_count": 2,
   "id": "6f73cce2-6326-4d2b-a420-393c6d0ca10b",
   "metadata": {},
   "outputs": [
    {
     "data": {
      "text/plain": [
       "'/global/cscratch1/sd/krzywins/CrystalBPM5/crystal-fft-bpm/examples/../'"
      ]
     },
     "execution_count": 2,
     "metadata": {},
     "output_type": "execute_result"
    }
   ],
   "source": [
    "XCr_path"
   ]
  },
  {
   "cell_type": "code",
   "execution_count": 3,
   "id": "0681ee61-e057-492c-88ac-fb991b2bfaa3",
   "metadata": {},
   "outputs": [],
   "source": [
    "\n",
    "def single_realization_with_data(delta_theta):\n",
    "    \n",
    "    xcr = XCrystal(XCr_path+'/config/C400_9p8keV_waist_3p5_micron.yaml')\n",
    "    xcr.configure(delta_theta)\n",
    "    xcr.run3D()\n",
    "    \n",
    "    return xcr.Reflectivity, xcr.Transmission, xcr.U1_field, xcr.U2_field, xcr.u, xcr.M"
   ]
  },
  {
   "cell_type": "code",
   "execution_count": 4,
   "id": "75539d4b-e0fc-43b0-a309-eddaf07ccc14",
   "metadata": {},
   "outputs": [
    {
     "name": "stdout",
     "output_type": "stream",
     "text": [
      "Quiet mode disabled. I will talk a lot...\n",
      "Congigured grid parameters\n",
      "Congigured a Gaussian beam\n",
      "Congigured deformation model\n",
      "Splitting recipe: Forest-Ruth\n",
      "Initialized tools...\n",
      "Delta theta:  1.5e-05 ; Reflectivity:  0.4653825581281255 ; Transmission:  0.45382428307415706\n"
     ]
    }
   ],
   "source": [
    "U1_data = []\n",
    "U2_data = []\n",
    "\n",
    "Rs, Ts, U1_xyz, U2_xyz, up, MM = single_realization_with_data(15e-6)\n",
    "U1_data.append(U1_xyz)\n",
    "U2_data.append(U2_xyz)\n",
    "\n",
    "U1_xyz = np.asarray(U1_data)\n",
    "U2_xyz = np.asarray(U2_data)"
   ]
  },
  {
   "cell_type": "code",
   "execution_count": 5,
   "id": "9ceef7f7-b7dc-4c86-997d-fa360778ec58",
   "metadata": {},
   "outputs": [
    {
     "data": {
      "text/plain": [
       "(1, 1000, 3, 433)"
      ]
     },
     "execution_count": 5,
     "metadata": {},
     "output_type": "execute_result"
    }
   ],
   "source": [
    "U1_xyz.shape"
   ]
  },
  {
   "cell_type": "code",
   "execution_count": 6,
   "id": "08c54c6e-16dd-4ef2-8967-5f1505ad0aa9",
   "metadata": {},
   "outputs": [
    {
     "data": {
      "text/plain": [
       "<matplotlib.image.AxesImage at 0x155511056ee0>"
      ]
     },
     "execution_count": 6,
     "metadata": {},
     "output_type": "execute_result"
    },
    {
     "data": {
      "image/png": "[encoded data removed]",
      "text/plain": [
       "<Figure size 432x288 with 1 Axes>"
      ]
     },
     "metadata": {
      "needs_background": "light"
     },
     "output_type": "display_data"
    }
   ],
   "source": [
    "plt.imshow(np.abs(U1_xyz[0,:,1,:]**2 + U2_xyz[0,:,1,:]**2), aspect='auto')"
   ]
  }
 ],
 "metadata": {
  "kernelspec": {
   "display_name": "NERSC Python",
   "language": "python",
   "name": "python3"
  },
  "language_info": {
   "codemirror_mode": {
    "name": "ipython",
    "version": 3
   },
   "file_extension": ".py",
   "mimetype": "text/x-python",
   "name": "python",
   "nbconvert_exporter": "python",
   "pygments_lexer": "ipython3",
   "version": "3.9.7"
  }
 },
 "nbformat": 4,
 "nbformat_minor": 5
}

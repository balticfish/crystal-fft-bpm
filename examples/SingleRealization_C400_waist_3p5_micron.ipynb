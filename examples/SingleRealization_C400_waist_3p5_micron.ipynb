{
 "cells": [
  {
   "cell_type": "code",
   "execution_count": 13,
   "id": "ed5e5b3d-7129-413b-a1f8-68d20ea9f630",
   "metadata": {},
   "outputs": [],
   "source": [
    "import sys\n",
    "import os\n",
    "import numpy as np\n",
    "import matplotlib.pyplot as plt\n",
    "import matplotlib\n",
    "import time\n",
    "XCr_path = os.getcwd()+'/../'\n",
    "sys.path.append(XCr_path)\n",
    "from XCrystal import *"
   ]
  },
  {
   "cell_type": "code",
   "execution_count": 14,
   "id": "6f73cce2-6326-4d2b-a420-393c6d0ca10b",
   "metadata": {},
   "outputs": [
    {
     "data": {
      "text/plain": [
       "'/global/cscratch1/sd/krzywins/CRYSTALBPMExpl/crystal-fft-bpm/examples/../'"
      ]
     },
     "execution_count": 14,
     "metadata": {},
     "output_type": "execute_result"
    }
   ],
   "source": [
    "XCr_path"
   ]
  },
  {
   "cell_type": "code",
   "execution_count": 15,
   "id": "0f60ff4a-ff29-4366-856d-ec0abf1deb06",
   "metadata": {},
   "outputs": [
    {
     "name": "stdout",
     "output_type": "stream",
     "text": [
      "Quiet mode disabled. I will talk a lot...\n",
      "Congigured grid parameters\n",
      "Congigured a Gaussian beam\n"
     ]
    },
    {
     "data": {
      "text/plain": [
       "49822547793.90427"
      ]
     },
     "execution_count": 15,
     "metadata": {},
     "output_type": "execute_result"
    }
   ],
   "source": [
    "xcr = XCrystal(XCr_path+'/config/C400_9p8keV_waist_3p5_micron.yaml')\n",
    "xcr.convr"
   ]
  },
  {
   "cell_type": "code",
   "execution_count": 16,
   "id": "0681ee61-e057-492c-88ac-fb991b2bfaa3",
   "metadata": {},
   "outputs": [],
   "source": [
    "\n",
    "def single_realization_with_data(delta_theta):\n",
    "    \n",
    "    xcr = XCrystal(XCr_path+'/config/C400_9p8keV_waist_3p5_micron.yaml')\n",
    "    xcr.configure(delta_theta)\n",
    "    xcr.run3D()\n",
    "    \n",
    "    return xcr.Reflectivity, xcr.Transmission, xcr.U1_field, xcr.U2_field, xcr.u, xcr.M"
   ]
  },
  {
   "cell_type": "code",
   "execution_count": 17,
   "id": "75539d4b-e0fc-43b0-a309-eddaf07ccc14",
   "metadata": {},
   "outputs": [
    {
     "name": "stdout",
     "output_type": "stream",
     "text": [
      "Quiet mode disabled. I will talk a lot...\n",
      "Congigured grid parameters\n",
      "Congigured a Gaussian beam\n",
      "Congigured deformation model\n",
      "Splitting recipe: Forest-Ruth\n",
      "Initialized tools...\n",
      "Delta theta:  1.5e-05 ; Reflectivity:  0.4653596099891896 ; Transmission:  0.4553936786630483 PhaseRefl 1.0801352131179718\n"
     ]
    }
   ],
   "source": [
    "U1_data = []\n",
    "U2_data = []\n",
    "\n",
    "Rs, Ts, U1_xyz, U2_xyz, up, MM = single_realization_with_data(15e-6)\n",
    "U1_data.append(U1_xyz)\n",
    "U2_data.append(U2_xyz)\n",
    "\n",
    "U1_xyz = np.asarray(U1_data)\n",
    "U2_xyz = np.asarray(U2_data)"
   ]
  },
  {
   "cell_type": "code",
   "execution_count": 18,
   "id": "c8eec024-0b3b-461f-9587-a4b04a6f8a99",
   "metadata": {},
   "outputs": [
    {
     "data": {
      "text/plain": [
       "1296"
      ]
     },
     "execution_count": 18,
     "metadata": {},
     "output_type": "execute_result"
    }
   ],
   "source": [
    "kmax=U1_xyz.shape[3]\n",
    "kmax"
   ]
  },
  {
   "cell_type": "code",
   "execution_count": 19,
   "id": "594ce73b-24a0-4adf-a333-6aef69314a42",
   "metadata": {},
   "outputs": [
    {
     "data": {
      "text/plain": [
       "(2000, 1)"
      ]
     },
     "execution_count": 19,
     "metadata": {},
     "output_type": "execute_result"
    }
   ],
   "source": [
    "logh1=((xcr.Xx-xcr.sep1) >= (-xcr.HH )) * ((xcr.Xx-xcr.sep1) <=(xcr.HH ))\n",
    "logh2=((xcr.Xx-xcr.sep1) >= (-xcr.HH*0.95 )) * ((xcr.Xx-xcr.sep1) <=(xcr.HH*0.95 ))\n",
    "logh1h2=logh1^logh2\n",
    "logh1h2.shape\n",
    "xcr.Xx.shape\n"
   ]
  },
  {
   "cell_type": "code",
   "execution_count": 20,
   "id": "c2749639-754a-4eee-b2f0-508a98893a97",
   "metadata": {},
   "outputs": [],
   "source": [
    "log_hJ=np.zeros((xcr.xgrid,kmax))      \n",
    "for i in range(xcr.xgrid):\n",
    "    for k in range(kmax):\n",
    "        log_hJ[i,k]=logh1h2[i]"
   ]
  },
  {
   "cell_type": "code",
   "execution_count": 21,
   "id": "08c54c6e-16dd-4ef2-8967-5f1505ad0aa9",
   "metadata": {},
   "outputs": [
    {
     "data": {
      "text/plain": [
       "(1600.0, 400.0)"
      ]
     },
     "execution_count": 21,
     "metadata": {},
     "output_type": "execute_result"
    },
    {
     "data": {
      "image/png": "[encoded data removed]",
      "text/plain": [
       "<Figure size 432x288 with 1 Axes>"
      ]
     },
     "metadata": {
      "needs_background": "light"
     },
     "output_type": "display_data"
    }
   ],
   "source": [
    "plt.imshow(np.abs(U1_xyz[0,:,0,:]**1 + U2_xyz[0,:,0,:]**1), aspect='auto',cmap='jet')\n",
    "plt.imshow(log_hJ, aspect='auto',cmap='jet', alpha=0.2)\n",
    "plt.ylim(1600,400)"
   ]
  },
  {
   "cell_type": "code",
   "execution_count": 22,
   "id": "3a98408b-b218-49ae-bcde-3286676ecb99",
   "metadata": {},
   "outputs": [
    {
     "data": {
      "text/plain": [
       "4"
      ]
     },
     "execution_count": 22,
     "metadata": {},
     "output_type": "execute_result"
    }
   ],
   "source": [
    "2+2"
   ]
  },
  {
   "cell_type": "code",
   "execution_count": null,
   "id": "3e34fc2e-e89a-44d3-a377-6a11bdbc74c9",
   "metadata": {},
   "outputs": [],
   "source": []
  },
  {
   "cell_type": "code",
   "execution_count": null,
   "id": "2040defe-4239-436e-bdcd-9849e1aa35eb",
   "metadata": {},
   "outputs": [],
   "source": []
  },
  {
   "cell_type": "code",
   "execution_count": null,
   "id": "24dfb143-f77c-4b67-a497-45089607f985",
   "metadata": {},
   "outputs": [],
   "source": []
  }
 ],
 "metadata": {
  "kernelspec": {
   "display_name": "NERSC Python",
   "language": "python",
   "name": "python3"
  },
  "language_info": {
   "codemirror_mode": {
    "name": "ipython",
    "version": 3
   },
   "file_extension": ".py",
   "mimetype": "text/x-python",
   "name": "python",
   "nbconvert_exporter": "python",
   "pygments_lexer": "ipython3",
   "version": "3.9.7"
  }
 },
 "nbformat": 4,
 "nbformat_minor": 5
}

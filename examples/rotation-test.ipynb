{
 "cells": [
  {
   "cell_type": "code",
   "execution_count": 3,
   "id": "526b41ea-8e13-4b3c-976e-b54596daecd9",
   "metadata": {},
   "outputs": [],
   "source": [
    "import sys\n",
    "import os\n",
    "import numpy as np\n",
    "import matplotlib.pyplot as plt\n",
    "import matplotlib\n",
    "import time\n",
    "XCr_path = os.getcwd()+'/../'\n",
    "sys.path.append(XCr_path)\n",
    "from XCrystal import *\n",
    "from scipy.spatial.transform import Rotation as R"
   ]
  },
  {
   "cell_type": "code",
   "execution_count": 4,
   "id": "c2fe21bb-eba4-4872-9953-3288836fb9df",
   "metadata": {},
   "outputs": [
    {
     "name": "stdout",
     "output_type": "stream",
     "text": [
      "No deformation model was selected\n"
     ]
    }
   ],
   "source": [
    "xcr = XCrystal(XCr_path+'/config/C400_9p8keV_LaueAssymRefl15degFig2.yaml')\n",
    "pp=xcr.configure(0,0)"
   ]
  },
  {
   "cell_type": "code",
   "execution_count": 7,
   "id": "39927630-d1fc-46c0-9994-e377ee25e6f6",
   "metadata": {},
   "outputs": [],
   "source": [
    "grid_size = (len(xcr.xx), len(xcr.yy), len(xcr.z))"
   ]
  },
  {
   "cell_type": "code",
   "execution_count": 21,
   "id": "2efc52e8-f46b-451f-918c-cbea8519244b",
   "metadata": {},
   "outputs": [
    {
     "data": {
      "text/plain": [
       "(4000, 4, 12000)"
      ]
     },
     "execution_count": 21,
     "metadata": {},
     "output_type": "execute_result"
    }
   ],
   "source": [
    "grid_size"
   ]
  },
  {
   "cell_type": "code",
   "execution_count": 132,
   "id": "661d92b7-d0ea-4da6-a627-643187043e73",
   "metadata": {},
   "outputs": [],
   "source": [
    "def rotate_plate_on_grid_optimized(grid_size, plate_center, plate_size, thickness, rotation_axis, rotation_angle):\n",
    "    \n",
    "    nx, ny, nz = grid_size\n",
    "    x = np.linspace(-1000, 1000, nx)\n",
    "    y = np.linspace(-1000, 1000, ny)\n",
    "    z = np.linspace(-1000, 1000, nz)\n",
    "    X, Y, Z = np.meshgrid(x, y, z, indexing='ij')\n",
    "\n",
    "    # Stack the coordinates\n",
    "    coords = np.stack((X, Y, Z), axis=-1) #- plate_center\n",
    "\n",
    "    # Create rotation matrix\n",
    "    rotation = R.from_rotvec(np.deg2rad(rotation_angle) * np.array(rotation_axis))\n",
    "    rotation_matrix = rotation.as_matrix()\n",
    "\n",
    "    # Apply rotation\n",
    "    rotated_coords = np.tensordot(coords, rotation_matrix, axes=([3], [1]))\n",
    "\n",
    "    # Conditions for the plate\n",
    "    length, width = plate_size\n",
    "    half_thickness = thickness / 2\n",
    "\n",
    "    cond_x = np.abs(rotated_coords[..., 0]) <= length / 2\n",
    "    cond_y = np.abs(rotated_coords[..., 1]) <= width / 2\n",
    "    cond_z = np.abs(rotated_coords[..., 2]) <= half_thickness\n",
    "\n",
    "    plate_mask = cond_x & cond_y & cond_z\n",
    "\n",
    "    return plate_mask#, X, Y, Z\n",
    "\n",
    "\n",
    "def rotate_plate_xcr(xcr, plate_center, plate_size, thickness, rotation_axis, rotation_angle):\n",
    "    \n",
    "    x = xcr.xx\n",
    "    y = xcr.yy\n",
    "    z = xcr.z\n",
    "    X, Y, Z = np.meshgrid(x, y, z, indexing='ij')\n",
    "\n",
    "    # Stack the coordinates\n",
    "    coords = np.stack((X, Y, Z), axis=-1) - plate_center\n",
    "\n",
    "    # Create rotation matrix\n",
    "    rotation = R.from_rotvec(np.deg2rad(rotation_angle) * np.array(rotation_axis))\n",
    "    rotation_matrix = rotation.as_matrix()\n",
    "\n",
    "    # Apply rotation\n",
    "    rotated_coords = np.tensordot(coords, rotation_matrix, axes=([3], [1]))\n",
    "\n",
    "    # Conditions for the plate\n",
    "    length, width = plate_size\n",
    "    half_thickness = thickness / 2\n",
    "\n",
    "    cond_x = np.abs(rotated_coords[..., 0]) <= length / 2\n",
    "    cond_y = np.abs(rotated_coords[..., 1]) <= width / 2\n",
    "    cond_z = np.abs(rotated_coords[..., 2]) <= half_thickness\n",
    "\n",
    "    plate_mask = cond_x & cond_y & cond_z\n",
    "\n",
    "    return plate_mask#, X, Y, Z"
   ]
  },
  {
   "cell_type": "code",
   "execution_count": 186,
   "id": "eedd24c6-d1a2-4b02-8b58-5b24c4c66fff",
   "metadata": {},
   "outputs": [],
   "source": [
    "grid_size = (500,3,400)\n",
    "XiArray = np.zeros(grid_size)\n",
    "mask = rotate_plate_on_grid_optimized(grid_size, (0, 0, 0), (500, 25), 300, (0, 1, 0), -15)"
   ]
  },
  {
   "cell_type": "code",
   "execution_count": 187,
   "id": "98c23752-598a-47da-8bfc-6d5f7d24b9ee",
   "metadata": {},
   "outputs": [],
   "source": [
    "XiArray[mask]=1.0"
   ]
  },
  {
   "cell_type": "code",
   "execution_count": 188,
   "id": "7dd1d401-91b5-49e1-b0e1-0771efb43286",
   "metadata": {},
   "outputs": [
    {
     "data": {
      "text/plain": [
       "<matplotlib.image.AxesImage at 0x7f2e38058820>"
      ]
     },
     "execution_count": 188,
     "metadata": {},
     "output_type": "execute_result"
    },
    {
     "data": {
      "image/png": "[encoded data removed]",
      "text/plain": [
       "<Figure size 640x480 with 1 Axes>"
      ]
     },
     "metadata": {},
     "output_type": "display_data"
    }
   ],
   "source": [
    "plt.imshow(XiArray[:,1,:], aspect='equal')"
   ]
  },
  {
   "cell_type": "code",
   "execution_count": 189,
   "id": "cfb5d93a-defc-4fef-819c-8fce008824a5",
   "metadata": {},
   "outputs": [],
   "source": [
    "XiArray = np.zeros(grid_size)\n",
    "mask1 = rotate_plate_on_grid_optimized(grid_size, (0, 0, 0), (150, 25), 20, (0, 1, 0), 15.0)\n",
    "#mask2 = rotate_plate_on_grid_optimized(grid_size, (0, 0, -20), (150, 25), 5, (0, 1, 0), 15.0)"
   ]
  },
  {
   "cell_type": "code",
   "execution_count": 13,
   "id": "bd390cc9-8e7e-49c4-abf6-1ab22b5f60bd",
   "metadata": {},
   "outputs": [
    {
     "data": {
      "text/plain": [
       "<matplotlib.image.AxesImage at 0x7fdc3bc40160>"
      ]
     },
     "execution_count": 13,
     "metadata": {},
     "output_type": "execute_result"
    },
    {
     "data": {
      "image/png": "[encoded data removed]",
      "text/plain": [
       "<Figure size 640x480 with 1 Axes>"
      ]
     },
     "metadata": {},
     "output_type": "display_data"
    }
   ],
   "source": [
    "XiArray[mask1]=1.0\n",
    "#XiArray[mask2]=-1.0\n",
    "\n",
    "plt.imshow(XiArray[:,50,:])"
   ]
  },
  {
   "cell_type": "code",
   "execution_count": null,
   "id": "7a621987-add3-48ce-8224-a36072c679a0",
   "metadata": {},
   "outputs": [],
   "source": []
  },
  {
   "cell_type": "code",
   "execution_count": 14,
   "id": "cb99bf82-5837-483e-ad7b-b1b5c424dc5b",
   "metadata": {},
   "outputs": [
    {
     "data": {
      "text/plain": [
       "4000"
      ]
     },
     "execution_count": 14,
     "metadata": {},
     "output_type": "execute_result"
    }
   ],
   "source": [
    "np.shape(xcr.xx)[0]"
   ]
  },
  {
   "cell_type": "code",
   "execution_count": null,
   "id": "f694cacb-ccb2-43b5-84b9-29f964494fe9",
   "metadata": {},
   "outputs": [],
   "source": []
  },
  {
   "cell_type": "code",
   "execution_count": null,
   "id": "f1e4136d-9c96-4bfe-8ad2-4da9479f790b",
   "metadata": {},
   "outputs": [],
   "source": []
  },
  {
   "cell_type": "code",
   "execution_count": 15,
   "id": "c53dbbed-a522-4fad-b3c6-b5e238addcb6",
   "metadata": {},
   "outputs": [],
   "source": [
    "XCrArray = np.zeros((np.shape(xcr.xx)[0], np.shape(xcr.yy)[0], np.shape(xcr.z)[0]))\n",
    "mask1 = rotate_plate_xcr(xcr, (xcr.xs, 0, 0), (xcr.HH, xcr.width*1e-6*xcr.convr), xcr.CrSize*1e-6*xcr.convr, (0, 1, 0), -np.rad2deg(xcr.asymm_angle))"
   ]
  },
  {
   "cell_type": "code",
   "execution_count": 16,
   "id": "3a0f0aeb-ea62-4133-9872-8915e993f219",
   "metadata": {},
   "outputs": [],
   "source": [
    "XCrArray[mask1]=1.0"
   ]
  },
  {
   "cell_type": "code",
   "execution_count": 22,
   "id": "8e585fdd-dfd2-4124-8530-99489d4624dc",
   "metadata": {},
   "outputs": [
    {
     "data": {
      "text/plain": [
       "<matplotlib.image.AxesImage at 0x7fdc3bb4da60>"
      ]
     },
     "execution_count": 22,
     "metadata": {},
     "output_type": "execute_result"
    },
    {
     "data": {
      "image/png": "[encoded data removed]",
      "text/plain": [
       "<Figure size 640x480 with 1 Axes>"
      ]
     },
     "metadata": {},
     "output_type": "display_data"
    }
   ],
   "source": [
    "plt.imshow(XCrArray[:,0,:], aspect='auto')"
   ]
  },
  {
   "cell_type": "code",
   "execution_count": 18,
   "id": "b6bd11e5-eae1-46e1-be4c-779af83fb399",
   "metadata": {},
   "outputs": [
    {
     "data": {
      "text/plain": [
       "(4000, 1, 12000)"
      ]
     },
     "execution_count": 18,
     "metadata": {},
     "output_type": "execute_result"
    }
   ],
   "source": [
    "np.shape(mask1)"
   ]
  },
  {
   "cell_type": "code",
   "execution_count": 21,
   "id": "c4146e65-ce13-44e3-a642-f15c6a46da35",
   "metadata": {},
   "outputs": [],
   "source": [
    "np.save('Asymm.geom',mask1) "
   ]
  },
  {
   "cell_type": "code",
   "execution_count": null,
   "id": "17af6d10-e9c0-48f9-b20b-19864c60427a",
   "metadata": {},
   "outputs": [],
   "source": []
  }
 ],
 "metadata": {
  "kernelspec": {
   "display_name": "Python 3 (ipykernel)",
   "language": "python",
   "name": "python3"
  },
  "language_info": {
   "codemirror_mode": {
    "name": "ipython",
    "version": 3
   },
   "file_extension": ".py",
   "mimetype": "text/x-python",
   "name": "python",
   "nbconvert_exporter": "python",
   "pygments_lexer": "ipython3",
   "version": "3.9.15"
  }
 },
 "nbformat": 4,
 "nbformat_minor": 5
}

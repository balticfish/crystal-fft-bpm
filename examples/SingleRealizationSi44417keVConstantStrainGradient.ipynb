{
 "cells": [
  {
   "cell_type": "code",
   "execution_count": 1,
   "id": "ed5e5b3d-7129-413b-a1f8-68d20ea9f630",
   "metadata": {},
   "outputs": [],
   "source": [
    "import sys\n",
    "import os\n",
    "XCr_path = os.getcwd()+'/../'\n",
    "sys.path.append(XCr_path)\n",
    "\n",
    "import numpy as np\n",
    "import matplotlib.pyplot as plt\n",
    "import matplotlib\n",
    "from XCrystal import *\n",
    "import time"
   ]
  },
  {
   "cell_type": "code",
   "execution_count": 2,
   "id": "6f73cce2-6326-4d2b-a420-393c6d0ca10b",
   "metadata": {},
   "outputs": [
    {
     "data": {
      "text/plain": [
       "'/global/cscratch1/sd/krzywins/CRYSTALBPMExpl/crystal-fft-bpm/examples/../'"
      ]
     },
     "execution_count": 2,
     "metadata": {},
     "output_type": "execute_result"
    }
   ],
   "source": [
    "XCr_path"
   ]
  },
  {
   "cell_type": "code",
   "execution_count": 3,
   "id": "4d83e818-86dc-4068-8c21-864d1dc4263d",
   "metadata": {},
   "outputs": [
    {
     "data": {
      "text/plain": [
       "86154339588.68605"
      ]
     },
     "execution_count": 3,
     "metadata": {},
     "output_type": "execute_result"
    }
   ],
   "source": [
    "xcr = XCrystal(XCr_path+'/config/Si44417keVConstanStrainGradient.yaml')\n",
    "xcr.convr"
   ]
  },
  {
   "cell_type": "code",
   "execution_count": 4,
   "id": "0681ee61-e057-492c-88ac-fb991b2bfaa3",
   "metadata": {},
   "outputs": [],
   "source": [
    "def single_realization(delta_theta, omega):\n",
    "    \n",
    "    xcr = XCrystal(XCr_path+'/Si44417keVConstanStrainGradient.yaml', omega)\n",
    "    xcr.configure(delta_theta)\n",
    "    xcr.run3D()\n",
    "    \n",
    "    return xcr.Reflectivity, xcr.Transmission\n",
    "\n",
    "def single_realization_with_data(delta_theta):\n",
    "    \n",
    "    xcr = XCrystal(XCr_path+'/config/Si44417keVConstanStrainGradient.yaml')\n",
    "    xcr.configure(delta_theta)\n",
    "    xcr.run3D()\n",
    "    \n",
    "    return xcr.Reflectivity, xcr.Transmission, xcr.U1_field, xcr.U2_field, xcr.u, xcr.M"
   ]
  },
  {
   "cell_type": "code",
   "execution_count": 39,
   "id": "75539d4b-e0fc-43b0-a309-eddaf07ccc14",
   "metadata": {},
   "outputs": [
    {
     "name": "stdout",
     "output_type": "stream",
     "text": [
      "Delta theta:  -2.2e-05 ; Reflectivity:  0.3873715096848393 ; Transmission:  0.1478664785881328 PhaseRefl 1.9444972147078046\n"
     ]
    }
   ],
   "source": [
    "U1_data = []\n",
    "U2_data = []\n",
    "\n",
    "Rs, Ts, U1_xyz, U2_xyz, up, MM = single_realization_with_data(-22e-6)\n",
    "U1_data.append(U1_xyz)\n",
    "U2_data.append(U2_xyz)\n",
    "\n",
    "U1_xyz = np.asarray(U1_data)\n",
    "U2_xyz = np.asarray(U2_data)"
   ]
  },
  {
   "cell_type": "code",
   "execution_count": 40,
   "id": "67cbc29c-4e16-4a24-8f17-5272d5940ca2",
   "metadata": {},
   "outputs": [
    {
     "data": {
      "text/plain": [
       "51"
      ]
     },
     "execution_count": 40,
     "metadata": {},
     "output_type": "execute_result"
    }
   ],
   "source": [
    "kmax=U1_xyz.shape[3]\n",
    "kmax"
   ]
  },
  {
   "cell_type": "code",
   "execution_count": 41,
   "id": "095a1b3c-45b0-411d-99ae-838d3a419edb",
   "metadata": {},
   "outputs": [
    {
     "data": {
      "text/plain": [
       "(3200, 1)"
      ]
     },
     "execution_count": 41,
     "metadata": {},
     "output_type": "execute_result"
    }
   ],
   "source": [
    "logh1=((xcr.Xx-xcr.sep1) >= (-xcr.HH )) * ((xcr.Xx-xcr.sep1) <=(xcr.HH ))\n",
    "logh2=((xcr.Xx-xcr.sep1) >= (-xcr.HH*0.9 )) * ((xcr.Xx-xcr.sep1) <=(xcr.HH*0.9 ))\n",
    "logh1h2=logh1^logh2\n",
    "logh1h2.shape\n",
    "xcr.Xx.shape\n"
   ]
  },
  {
   "cell_type": "code",
   "execution_count": 42,
   "id": "5aeb1b66-7781-437b-90e6-8be59af4625e",
   "metadata": {},
   "outputs": [],
   "source": [
    "log_hJ=np.zeros((xcr.xgrid,kmax))      \n",
    "for i in range(xcr.xgrid):\n",
    "    for k in range(kmax):\n",
    "        log_hJ[i,k]=logh1h2[i]"
   ]
  },
  {
   "cell_type": "code",
   "execution_count": 44,
   "id": "08c54c6e-16dd-4ef2-8967-5f1505ad0aa9",
   "metadata": {},
   "outputs": [
    {
     "data": {
      "text/plain": [
       "<matplotlib.image.AxesImage at 0x15551bf2ce80>"
      ]
     },
     "execution_count": 44,
     "metadata": {},
     "output_type": "execute_result"
    },
    {
     "data": {
      "image/png": "[encoded data removed]",
      "text/plain": [
       "<Figure size 432x288 with 1 Axes>"
      ]
     },
     "metadata": {
      "needs_background": "light"
     },
     "output_type": "display_data"
    }
   ],
   "source": [
    "plt.imshow(np.abs(U1_xyz[0,:,0,:]**2 + U2_xyz[0,:,0,:]**2), aspect='auto',cmap='jet')\n",
    "plt.imshow(log_hJ, aspect='auto',cmap='jet', alpha=0.2)"
   ]
  },
  {
   "cell_type": "code",
   "execution_count": 33,
   "id": "8d66cf15-8d5b-4e6d-abec-abedd7ba89d6",
   "metadata": {},
   "outputs": [
    {
     "data": {
      "text/plain": [
       "4"
      ]
     },
     "execution_count": 33,
     "metadata": {},
     "output_type": "execute_result"
    }
   ],
   "source": [
    "2+2"
   ]
  },
  {
   "cell_type": "code",
   "execution_count": null,
   "id": "40054bae-c6e6-4470-9b42-b43384b2ce93",
   "metadata": {},
   "outputs": [],
   "source": []
  }
 ],
 "metadata": {
  "kernelspec": {
   "display_name": "NERSC Python",
   "language": "python",
   "name": "python3"
  },
  "language_info": {
   "codemirror_mode": {
    "name": "ipython",
    "version": 3
   },
   "file_extension": ".py",
   "mimetype": "text/x-python",
   "name": "python",
   "nbconvert_exporter": "python",
   "pygments_lexer": "ipython3",
   "version": "3.9.7"
  }
 },
 "nbformat": 4,
 "nbformat_minor": 5
}

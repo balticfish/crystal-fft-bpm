{
 "cells": [
  {
   "cell_type": "code",
   "execution_count": 1,
   "id": "526b41ea-8e13-4b3c-976e-b54596daecd9",
   "metadata": {},
   "outputs": [],
   "source": [
    "import sys\n",
    "import os\n",
    "import numpy as np\n",
    "import matplotlib.pyplot as plt\n",
    "import matplotlib\n",
    "import time\n",
    "XCr_path = os.getcwd()+'/../'\n",
    "sys.path.append(XCr_path)\n",
    "from XCrystal import *\n",
    "from scipy.spatial.transform import Rotation as R"
   ]
  },
  {
   "cell_type": "markdown",
   "id": "992fc70e-ad98-453f-91b6-01964a9ade82",
   "metadata": {},
   "source": [
    "## Loading XCrystal configuration"
   ]
  },
  {
   "cell_type": "code",
   "execution_count": 2,
   "id": "c2fe21bb-eba4-4872-9953-3288836fb9df",
   "metadata": {},
   "outputs": [
    {
     "name": "stdout",
     "output_type": "stream",
     "text": [
      "Geometry file was provided\n",
      "No deformation model was selected\n"
     ]
    }
   ],
   "source": [
    "xcr = XCrystal(XCr_path+'/config/C400_9p8keV_Laue_Asym-sphere.yaml')\n",
    "pp=xcr.configure(0,0)"
   ]
  },
  {
   "cell_type": "markdown",
   "id": "30d516cc-a1ce-4641-9f84-b8cf0bb835aa",
   "metadata": {},
   "source": [
    "## Rotation function"
   ]
  },
  {
   "cell_type": "code",
   "execution_count": 3,
   "id": "661d92b7-d0ea-4da6-a627-643187043e73",
   "metadata": {},
   "outputs": [],
   "source": [
    "def rotate_sphere_xcr(xcr, sphere_center, radius, rotation_axis, rotation_angle, hemisphere='upper'):\n",
    "    \n",
    "    x = xcr.xx\n",
    "    y = xcr.yy\n",
    "    z = xcr.z\n",
    "    X, Y, Z = np.meshgrid(x, y, z, indexing='ij')\n",
    "\n",
    "    # Stack the coordinates\n",
    "    coords = np.stack((X, Y, Z), axis=-1) - sphere_center\n",
    "\n",
    "    # Create rotation matrix\n",
    "    rotation = R.from_rotvec(np.deg2rad(rotation_angle) * np.array(rotation_axis))\n",
    "    rotation_matrix = rotation.as_matrix()\n",
    "\n",
    "    # Apply rotation\n",
    "    rotated_coords = np.tensordot(coords, rotation_matrix, axes=([3], [1]))\n",
    "    \n",
    "    distance_squared = (rotated_coords[..., 0] ** 2 + rotated_coords[..., 1] ** 2 + rotated_coords[..., 2] ** 2)\n",
    "\n",
    "\n",
    "    # Condition for points inside the sphere\n",
    "    sphere_condition = distance_squared <= radius ** 2\n",
    "    \n",
    "    # Condition for the hemisphere\n",
    "    if hemisphere == 'upper':\n",
    "        hemisphere_condition = rotated_coords[..., 0] <= sphere_center[0]\n",
    "    elif hemisphere == 'lower':\n",
    "        hemisphere_condition = rotated_coords[..., 0] >= sphere_center[0]\n",
    "    else:\n",
    "        raise ValueError(\"hemisphere must be 'upper' or 'lower'\")\n",
    "\n",
    "    # Combine conditions\n",
    "    sphere_mask = sphere_condition & hemisphere_condition\n",
    "\n",
    "    return sphere_mask"
   ]
  },
  {
   "cell_type": "markdown",
   "id": "8e056c07-43ec-46ba-8819-1ee7007ae92f",
   "metadata": {},
   "source": [
    "## Create boolean mask for where the crystal is"
   ]
  },
  {
   "cell_type": "code",
   "execution_count": 8,
   "id": "c53dbbed-a522-4fad-b3c6-b5e238addcb6",
   "metadata": {},
   "outputs": [],
   "source": [
    "XCrArray = np.zeros((np.shape(xcr.xx)[0], np.shape(xcr.yy)[0], np.shape(xcr.z)[0]))\n",
    "mask1 = rotate_sphere_xcr(xcr, (xcr.xs, 0, 0), 10.0 * 1e-6 * xcr.convr, (0, 1, 0), 0.0)"
   ]
  },
  {
   "cell_type": "code",
   "execution_count": 9,
   "id": "3a0f0aeb-ea62-4133-9872-8915e993f219",
   "metadata": {},
   "outputs": [],
   "source": [
    "XCrArray[mask1]=True"
   ]
  },
  {
   "cell_type": "code",
   "execution_count": 10,
   "id": "8e585fdd-dfd2-4124-8530-99489d4624dc",
   "metadata": {},
   "outputs": [
    {
     "data": {
      "text/plain": [
       "<matplotlib.image.AxesImage at 0x7f7de37a1cd0>"
      ]
     },
     "execution_count": 10,
     "metadata": {},
     "output_type": "execute_result"
    },
    {
     "data": {
      "image/png": "[encoded data removed]",
      "text/plain": [
       "<Figure size 640x480 with 1 Axes>"
      ]
     },
     "metadata": {},
     "output_type": "display_data"
    }
   ],
   "source": [
    "plt.imshow(XCrArray[:,127,:], extent=[min(xcr.z)/ 1e-6 / xcr.convr, max(xcr.z) / 1e-6 / xcr.convr, min(xcr.xx) / 1e-6  / xcr.convr, max(xcr.xx) / 1e-6 / xcr.convr], aspect='equal')"
   ]
  },
  {
   "cell_type": "markdown",
   "id": "104ec497-87d5-4e38-9ae7-c51aafc38a3e",
   "metadata": {},
   "source": [
    "## Save the mask in the geometry file"
   ]
  },
  {
   "cell_type": "code",
   "execution_count": 7,
   "id": "c4146e65-ce13-44e3-a642-f15c6a46da35",
   "metadata": {},
   "outputs": [],
   "source": [
    "np.save('Asymm-sphere.geom',mask1) "
   ]
  },
  {
   "cell_type": "code",
   "execution_count": null,
   "id": "e9dedb89-82aa-409b-a09b-b67f6f4ee307",
   "metadata": {},
   "outputs": [],
   "source": []
  },
  {
   "cell_type": "code",
   "execution_count": null,
   "id": "5d0999c6-3e60-4a44-a8e1-c7995d8ffc07",
   "metadata": {},
   "outputs": [],
   "source": []
  },
  {
   "cell_type": "code",
   "execution_count": null,
   "id": "81c89f43-0a6d-4727-8815-9301b3f121ea",
   "metadata": {},
   "outputs": [],
   "source": []
  },
  {
   "cell_type": "code",
   "execution_count": null,
   "id": "a4cc217c-5c8f-43b8-a924-5c947584f207",
   "metadata": {},
   "outputs": [],
   "source": []
  }
 ],
 "metadata": {
  "kernelspec": {
   "display_name": "Python 3 (ipykernel)",
   "language": "python",
   "name": "python3"
  },
  "language_info": {
   "codemirror_mode": {
    "name": "ipython",
    "version": 3
   },
   "file_extension": ".py",
   "mimetype": "text/x-python",
   "name": "python",
   "nbconvert_exporter": "python",
   "pygments_lexer": "ipython3",
   "version": "3.9.20"
  }
 },
 "nbformat": 4,
 "nbformat_minor": 5
}

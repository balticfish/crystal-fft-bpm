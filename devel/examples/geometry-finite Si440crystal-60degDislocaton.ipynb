{
 "cells": [
  {
   "cell_type": "code",
   "execution_count": 1,
   "id": "526b41ea-8e13-4b3c-976e-b54596daecd9",
   "metadata": {},
   "outputs": [],
   "source": [
    "import sys\n",
    "import os\n",
    "import numpy as np\n",
    "import matplotlib.pyplot as plt\n",
    "import matplotlib\n",
    "import time\n",
    "XCr_path = os.getcwd()+'/../'\n",
    "sys.path.append(XCr_path)\n",
    "from XCrystal import *\n",
    "from scipy.spatial.transform import Rotation as R"
   ]
  },
  {
   "cell_type": "code",
   "execution_count": 2,
   "id": "20c5e6ed-19dc-47b5-9f3e-6fe30ac91f7c",
   "metadata": {
    "tags": []
   },
   "outputs": [
    {
     "data": {
      "text/plain": [
       "'/sdf/group/ad/beamphysics/fft-bpm/CrystalBPM_01_08_2025P/examples'"
      ]
     },
     "execution_count": 2,
     "metadata": {},
     "output_type": "execute_result"
    }
   ],
   "source": [
    "pwd"
   ]
  },
  {
   "cell_type": "markdown",
   "id": "992fc70e-ad98-453f-91b6-01964a9ade82",
   "metadata": {},
   "source": [
    "## Loading XCrystal configuration"
   ]
  },
  {
   "cell_type": "code",
   "execution_count": 3,
   "id": "c2fe21bb-eba4-4872-9953-3288836fb9df",
   "metadata": {},
   "outputs": [
    {
     "name": "stdout",
     "output_type": "stream",
     "text": [
      "Geometry file was provided\n"
     ]
    }
   ],
   "source": [
    "xcr = XCrystal(XCr_path+'/config/Si440_17p45keVDislk60degGronkowskiFiniteCrystal3D.yaml')\n",
    "pp=xcr.configure(0,0)"
   ]
  },
  {
   "cell_type": "code",
   "execution_count": 4,
   "id": "7f53dd58-ef2f-4163-81d2-a9bb4065da22",
   "metadata": {
    "tags": []
   },
   "outputs": [
    {
     "data": {
      "text/plain": [
       "10"
      ]
     },
     "execution_count": 4,
     "metadata": {},
     "output_type": "execute_result"
    }
   ],
   "source": [
    " xcr.width"
   ]
  },
  {
   "cell_type": "markdown",
   "id": "30d516cc-a1ce-4641-9f84-b8cf0bb835aa",
   "metadata": {},
   "source": [
    "## Rotation function"
   ]
  },
  {
   "cell_type": "code",
   "execution_count": 5,
   "id": "661d92b7-d0ea-4da6-a627-643187043e73",
   "metadata": {},
   "outputs": [],
   "source": [
    "def rotate_plate_xcr(xcr, plate_center, plate_size, thickness, rotation_axis, rotation_angle):\n",
    "    \n",
    "    x = xcr.xx\n",
    "    y = xcr.yy\n",
    "    z = xcr.z\n",
    "    X, Y, Z = np.meshgrid(x, y, z, indexing='ij')\n",
    "\n",
    "    # Stack the coordinates\n",
    "    coords = np.stack((X, Y, Z), axis=-1) - plate_center\n",
    "\n",
    "    # Create rotation matrix\n",
    "    rotation = R.from_rotvec(np.deg2rad(rotation_angle) * np.array(rotation_axis))\n",
    "    rotation_matrix = rotation.as_matrix()\n",
    "\n",
    "    # Apply rotation\n",
    "    rotated_coords = np.tensordot(coords, rotation_matrix, axes=([3], [1]))\n",
    "\n",
    "    # Conditions for the plate\n",
    "    length, width = plate_size\n",
    "    half_thickness = thickness / 2\n",
    "\n",
    "    cond_x = np.abs(rotated_coords[..., 0]) <= length / 2\n",
    "    cond_y = np.abs(rotated_coords[..., 1]) <= width / 2\n",
    "    cond_z = np.abs(rotated_coords[..., 2]) <= half_thickness\n",
    "\n",
    "    plate_mask = cond_x & cond_y & cond_z\n",
    "\n",
    "    return plate_mask"
   ]
  },
  {
   "cell_type": "markdown",
   "id": "8e056c07-43ec-46ba-8819-1ee7007ae92f",
   "metadata": {},
   "source": [
    "## Create boolean mask for where the crystal is"
   ]
  },
  {
   "cell_type": "code",
   "execution_count": 6,
   "id": "c53dbbed-a522-4fad-b3c6-b5e238addcb6",
   "metadata": {},
   "outputs": [],
   "source": [
    "XCrArray = np.zeros((np.shape(xcr.xx)[0], np.shape(xcr.yy)[0], np.shape(xcr.z)[0]))\n",
    "mask1 = rotate_plate_xcr(xcr, (xcr.xs, 0, 0), (2 * xcr.HH, xcr.width * 1e-6 * xcr.convr), xcr.CrSize, (0, 1, 0), -np.rad2deg(xcr.asymm_angle))"
   ]
  },
  {
   "cell_type": "code",
   "execution_count": 7,
   "id": "3a0f0aeb-ea62-4133-9872-8915e993f219",
   "metadata": {},
   "outputs": [],
   "source": [
    "XCrArray[mask1]=True"
   ]
  },
  {
   "cell_type": "code",
   "execution_count": 8,
   "id": "961f16fc-aced-4d16-a3e3-354df1aef6b9",
   "metadata": {
    "tags": []
   },
   "outputs": [
    {
     "data": {
      "text/plain": [
       "(300, 200, 300)"
      ]
     },
     "execution_count": 8,
     "metadata": {},
     "output_type": "execute_result"
    }
   ],
   "source": [
    "XCrArray.shape"
   ]
  },
  {
   "cell_type": "code",
   "execution_count": 9,
   "id": "8e585fdd-dfd2-4124-8530-99489d4624dc",
   "metadata": {},
   "outputs": [
    {
     "data": {
      "text/plain": [
       "<matplotlib.image.AxesImage at 0x7fb0ac420a00>"
      ]
     },
     "execution_count": 9,
     "metadata": {},
     "output_type": "execute_result"
    },
    {
     "data": {
      "image/png": "[encoded data removed]",
      "text/plain": [
       "<Figure size 640x480 with 1 Axes>"
      ]
     },
     "metadata": {},
     "output_type": "display_data"
    }
   ],
   "source": [
    "plt.imshow(XCrArray[:,100,:], aspect='auto')"
   ]
  },
  {
   "cell_type": "markdown",
   "id": "104ec497-87d5-4e38-9ae7-c51aafc38a3e",
   "metadata": {},
   "source": [
    "## Save the mask in the geometry file"
   ]
  },
  {
   "cell_type": "code",
   "execution_count": 10,
   "id": "c4146e65-ce13-44e3-a642-f15c6a46da35",
   "metadata": {},
   "outputs": [],
   "source": [
    "np.save('SiFiniteDisloc.geom',mask1) "
   ]
  },
  {
   "cell_type": "code",
   "execution_count": 11,
   "id": "17af6d10-e9c0-48f9-b20b-19864c60427a",
   "metadata": {},
   "outputs": [
    {
     "data": {
      "text/plain": [
       "10"
      ]
     },
     "execution_count": 11,
     "metadata": {},
     "output_type": "execute_result"
    }
   ],
   "source": [
    " xcr.width"
   ]
  },
  {
   "cell_type": "code",
   "execution_count": null,
   "id": "e9dedb89-82aa-409b-a09b-b67f6f4ee307",
   "metadata": {},
   "outputs": [],
   "source": []
  },
  {
   "cell_type": "code",
   "execution_count": null,
   "id": "5ff498f2-74c3-470b-b21f-8ddc0674df1d",
   "metadata": {},
   "outputs": [],
   "source": []
  }
 ],
 "metadata": {
  "kernelspec": {
   "display_name": "Python 3 (ipykernel)",
   "language": "python",
   "name": "python3"
  },
  "language_info": {
   "codemirror_mode": {
    "name": "ipython",
    "version": 3
   },
   "file_extension": ".py",
   "mimetype": "text/x-python",
   "name": "python",
   "nbconvert_exporter": "python",
   "pygments_lexer": "ipython3",
   "version": "3.9.20"
  }
 },
 "nbformat": 4,
 "nbformat_minor": 5
}

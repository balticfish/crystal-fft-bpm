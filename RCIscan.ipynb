{
 "cells": [
  {
   "cell_type": "code",
   "execution_count": 1,
   "id": "132fe497",
   "metadata": {},
   "outputs": [],
   "source": [
    "import sys\n",
    "XCr_path = '/Users/aliaksei/Documents/lume/Crystal'\n",
    "sys.path.append(XCr_path)\n",
    "\n",
    "import numpy as np\n",
    "import matplotlib.pyplot as plt\n",
    "import matplotlib\n",
    "from XCrystal import *\n",
    "import time"
   ]
  },
  {
   "cell_type": "code",
   "execution_count": 2,
   "id": "0e46a858",
   "metadata": {},
   "outputs": [],
   "source": [
    "Npoints = 10\n",
    "delta_theta = np.linspace(-13.862472049580001e-6, 41.54780686945001e-6, Npoints)  \n",
    "omega0 = 9000.0\n",
    "Rs = np.zeros(Npoints)\n",
    "Ts = np.zeros(Npoints)"
   ]
  },
  {
   "cell_type": "code",
   "execution_count": 5,
   "id": "3d901e56",
   "metadata": {},
   "outputs": [],
   "source": [
    "def single_realization(delta_theta, omega):\n",
    "    \n",
    "    xcr = XCrystal(omega, XCr_path+'/Crystal.yaml')\n",
    "    xcr.configure(delta_theta)\n",
    "    xcr.run3D()\n",
    "    \n",
    "    return xcr.Reflectivity, xcr.Transmission"
   ]
  },
  {
   "cell_type": "code",
   "execution_count": 6,
   "id": "631c675b",
   "metadata": {},
   "outputs": [
    {
     "name": "stdout",
     "output_type": "stream",
     "text": [
      "Congigured grid parameters\n",
      "Congigured a Gaussian beam\n",
      "Congigured deformation model\n",
      "Initialized tools...\n",
      "Delta theta:  -1.3862472049580001e-05 ; Reflectivity:  0.008086036400713818 ; Transmission:  0.42235493075327324\n",
      "Congigured grid parameters\n",
      "Congigured a Gaussian beam\n",
      "Congigured deformation model\n",
      "Initialized tools...\n",
      "Delta theta:  -7.70577439191e-06 ; Reflectivity:  0.016499286523464718 ; Transmission:  0.4399903119529626\n",
      "Congigured grid parameters\n",
      "Congigured a Gaussian beam\n",
      "Congigured deformation model\n",
      "Initialized tools...\n",
      "Delta theta:  -1.5490767342399981e-06 ; Reflectivity:  0.09076725140867355 ; Transmission:  0.43833892949749526\n",
      "Congigured grid parameters\n",
      "Congigured a Gaussian beam\n",
      "Congigured deformation model\n",
      "Initialized tools...\n",
      "Delta theta:  4.607620923430004e-06 ; Reflectivity:  0.15646042067720098 ; Transmission:  0.44875949580781715\n",
      "Congigured grid parameters\n",
      "Congigured a Gaussian beam\n",
      "Congigured deformation model\n",
      "Initialized tools...\n",
      "Delta theta:  1.0764318581100005e-05 ; Reflectivity:  0.9514581861723491 ; Transmission:  4.515098869136524e-06\n",
      "Congigured grid parameters\n",
      "Congigured a Gaussian beam\n",
      "Congigured deformation model\n",
      "Initialized tools...\n",
      "Delta theta:  1.6921016238770006e-05 ; Reflectivity:  0.888585359256313 ; Transmission:  2.7756255341729233e-06\n",
      "Congigured grid parameters\n",
      "Congigured a Gaussian beam\n",
      "Congigured deformation model\n",
      "Initialized tools...\n",
      "Delta theta:  2.307771389644001e-05 ; Reflectivity:  0.1862816428245108 ; Transmission:  0.048887786663983766\n",
      "Congigured grid parameters\n",
      "Congigured a Gaussian beam\n",
      "Congigured deformation model\n",
      "Initialized tools...\n",
      "Delta theta:  2.9234411554110007e-05 ; Reflectivity:  0.06701143680380271 ; Transmission:  0.17281074868907415\n",
      "Congigured grid parameters\n",
      "Congigured a Gaussian beam\n",
      "Congigured deformation model\n",
      "Initialized tools...\n",
      "Delta theta:  3.5391109211780014e-05 ; Reflectivity:  0.021411682574839306 ; Transmission:  0.23378481012774438\n",
      "Congigured grid parameters\n",
      "Congigured a Gaussian beam\n",
      "Congigured deformation model\n",
      "Initialized tools...\n",
      "Delta theta:  4.154780686945001e-05 ; Reflectivity:  0.012342848422382103 ; Transmission:  0.26482784471789095\n"
     ]
    }
   ],
   "source": [
    "for i in range(0, Npoints):\n",
    "    Rs[i], Ts[i] = single_realization(delta_theta[i], omega0)"
   ]
  },
  {
   "cell_type": "code",
   "execution_count": 7,
   "id": "b3fa00b7",
   "metadata": {},
   "outputs": [
    {
     "data": {
      "text/plain": [
       "[<matplotlib.lines.Line2D at 0x7ffb3897ec40>]"
      ]
     },
     "execution_count": 7,
     "metadata": {},
     "output_type": "execute_result"
    },
    {
     "data": {
      "image/png": "[encoded data removed]",
      "text/plain": [
       "<Figure size 432x288 with 1 Axes>"
      ]
     },
     "metadata": {
      "needs_background": "light"
     },
     "output_type": "display_data"
    }
   ],
   "source": [
    "plt.figure()\n",
    "plt.plot(Rs)"
   ]
  },
  {
   "cell_type": "code",
   "execution_count": null,
   "id": "a6f53145",
   "metadata": {},
   "outputs": [],
   "source": []
  },
  {
   "cell_type": "code",
   "execution_count": null,
   "id": "678a4255",
   "metadata": {},
   "outputs": [],
   "source": []
  },
  {
   "cell_type": "code",
   "execution_count": null,
   "id": "c5d74ce4",
   "metadata": {},
   "outputs": [],
   "source": []
  },
  {
   "cell_type": "code",
   "execution_count": null,
   "id": "18a54087",
   "metadata": {},
   "outputs": [],
   "source": []
  },
  {
   "cell_type": "code",
   "execution_count": null,
   "id": "20079228",
   "metadata": {},
   "outputs": [],
   "source": []
  },
  {
   "cell_type": "code",
   "execution_count": null,
   "id": "84a24e6f",
   "metadata": {},
   "outputs": [],
   "source": []
  },
  {
   "cell_type": "code",
   "execution_count": null,
   "id": "a3818919",
   "metadata": {},
   "outputs": [],
   "source": []
  }
 ],
 "metadata": {
  "kernelspec": {
   "display_name": "Python 3",
   "language": "python",
   "name": "python3"
  },
  "language_info": {
   "codemirror_mode": {
    "name": "ipython",
    "version": 3
   },
   "file_extension": ".py",
   "mimetype": "text/x-python",
   "name": "python",
   "nbconvert_exporter": "python",
   "pygments_lexer": "ipython3",
   "version": "3.8.5"
  }
 },
 "nbformat": 4,
 "nbformat_minor": 5
}
